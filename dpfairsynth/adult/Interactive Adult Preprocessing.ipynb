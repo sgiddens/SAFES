{
 "cells": [
  {
   "cell_type": "code",
   "execution_count": 267,
   "id": "52e35246",
   "metadata": {},
   "outputs": [],
   "source": [
    "from ucimlrepo import fetch_ucirepo\n",
    "from mbi import Dataset\n",
    "\n",
    "import pandas as pd\n",
    "import numpy as np\n",
    "import json"
   ]
  },
  {
   "cell_type": "markdown",
   "id": "ad07b3da",
   "metadata": {},
   "source": [
    "# Load data"
   ]
  },
  {
   "cell_type": "code",
   "execution_count": 274,
   "id": "f5467cf7",
   "metadata": {},
   "outputs": [],
   "source": [
    "# fetch dataset \n",
    "UCI_adult = fetch_ucirepo(id=2) "
   ]
  },
  {
   "cell_type": "code",
   "execution_count": 286,
   "id": "c16ad819",
   "metadata": {},
   "outputs": [
    {
     "data": {
      "text/html": [
       "<div>\n",
       "<style scoped>\n",
       "    .dataframe tbody tr th:only-of-type {\n",
       "        vertical-align: middle;\n",
       "    }\n",
       "\n",
       "    .dataframe tbody tr th {\n",
       "        vertical-align: top;\n",
       "    }\n",
       "\n",
       "    .dataframe thead th {\n",
       "        text-align: right;\n",
       "    }\n",
       "</style>\n",
       "<table border=\"1\" class=\"dataframe\">\n",
       "  <thead>\n",
       "    <tr style=\"text-align: right;\">\n",
       "      <th></th>\n",
       "      <th>age</th>\n",
       "      <th>workclass</th>\n",
       "      <th>fnlwgt</th>\n",
       "      <th>education</th>\n",
       "      <th>education-num</th>\n",
       "      <th>marital-status</th>\n",
       "      <th>occupation</th>\n",
       "      <th>relationship</th>\n",
       "      <th>race</th>\n",
       "      <th>sex</th>\n",
       "      <th>capital-gain</th>\n",
       "      <th>capital-loss</th>\n",
       "      <th>hours-per-week</th>\n",
       "      <th>native-country</th>\n",
       "      <th>income</th>\n",
       "      <th>age-shifted</th>\n",
       "    </tr>\n",
       "  </thead>\n",
       "  <tbody>\n",
       "    <tr>\n",
       "      <th>0</th>\n",
       "      <td>39</td>\n",
       "      <td>State-gov</td>\n",
       "      <td>77516</td>\n",
       "      <td>Bachelors</td>\n",
       "      <td>13</td>\n",
       "      <td>Never-married</td>\n",
       "      <td>Adm-clerical</td>\n",
       "      <td>Not-in-family</td>\n",
       "      <td>White</td>\n",
       "      <td>Male</td>\n",
       "      <td>2174</td>\n",
       "      <td>0</td>\n",
       "      <td>40</td>\n",
       "      <td>United-States</td>\n",
       "      <td>&lt;=50K</td>\n",
       "      <td>22</td>\n",
       "    </tr>\n",
       "    <tr>\n",
       "      <th>1</th>\n",
       "      <td>50</td>\n",
       "      <td>Self-emp-not-inc</td>\n",
       "      <td>83311</td>\n",
       "      <td>Bachelors</td>\n",
       "      <td>13</td>\n",
       "      <td>Married-civ-spouse</td>\n",
       "      <td>Exec-managerial</td>\n",
       "      <td>Husband</td>\n",
       "      <td>White</td>\n",
       "      <td>Male</td>\n",
       "      <td>0</td>\n",
       "      <td>0</td>\n",
       "      <td>13</td>\n",
       "      <td>United-States</td>\n",
       "      <td>&lt;=50K</td>\n",
       "      <td>33</td>\n",
       "    </tr>\n",
       "    <tr>\n",
       "      <th>2</th>\n",
       "      <td>38</td>\n",
       "      <td>Private</td>\n",
       "      <td>215646</td>\n",
       "      <td>HS-grad</td>\n",
       "      <td>9</td>\n",
       "      <td>Divorced</td>\n",
       "      <td>Handlers-cleaners</td>\n",
       "      <td>Not-in-family</td>\n",
       "      <td>White</td>\n",
       "      <td>Male</td>\n",
       "      <td>0</td>\n",
       "      <td>0</td>\n",
       "      <td>40</td>\n",
       "      <td>United-States</td>\n",
       "      <td>&lt;=50K</td>\n",
       "      <td>21</td>\n",
       "    </tr>\n",
       "    <tr>\n",
       "      <th>3</th>\n",
       "      <td>53</td>\n",
       "      <td>Private</td>\n",
       "      <td>234721</td>\n",
       "      <td>11th</td>\n",
       "      <td>7</td>\n",
       "      <td>Married-civ-spouse</td>\n",
       "      <td>Handlers-cleaners</td>\n",
       "      <td>Husband</td>\n",
       "      <td>Black</td>\n",
       "      <td>Male</td>\n",
       "      <td>0</td>\n",
       "      <td>0</td>\n",
       "      <td>40</td>\n",
       "      <td>United-States</td>\n",
       "      <td>&lt;=50K</td>\n",
       "      <td>36</td>\n",
       "    </tr>\n",
       "    <tr>\n",
       "      <th>4</th>\n",
       "      <td>28</td>\n",
       "      <td>Private</td>\n",
       "      <td>338409</td>\n",
       "      <td>Bachelors</td>\n",
       "      <td>13</td>\n",
       "      <td>Married-civ-spouse</td>\n",
       "      <td>Prof-specialty</td>\n",
       "      <td>Wife</td>\n",
       "      <td>Black</td>\n",
       "      <td>Female</td>\n",
       "      <td>0</td>\n",
       "      <td>0</td>\n",
       "      <td>40</td>\n",
       "      <td>Cuba</td>\n",
       "      <td>&lt;=50K</td>\n",
       "      <td>11</td>\n",
       "    </tr>\n",
       "  </tbody>\n",
       "</table>\n",
       "</div>"
      ],
      "text/plain": [
       "   age         workclass  fnlwgt  education  education-num  \\\n",
       "0   39         State-gov   77516  Bachelors             13   \n",
       "1   50  Self-emp-not-inc   83311  Bachelors             13   \n",
       "2   38           Private  215646    HS-grad              9   \n",
       "3   53           Private  234721       11th              7   \n",
       "4   28           Private  338409  Bachelors             13   \n",
       "\n",
       "       marital-status         occupation   relationship   race     sex  \\\n",
       "0       Never-married       Adm-clerical  Not-in-family  White    Male   \n",
       "1  Married-civ-spouse    Exec-managerial        Husband  White    Male   \n",
       "2            Divorced  Handlers-cleaners  Not-in-family  White    Male   \n",
       "3  Married-civ-spouse  Handlers-cleaners        Husband  Black    Male   \n",
       "4  Married-civ-spouse     Prof-specialty           Wife  Black  Female   \n",
       "\n",
       "   capital-gain  capital-loss  hours-per-week native-country income  \\\n",
       "0          2174             0              40  United-States  <=50K   \n",
       "1             0             0              13  United-States  <=50K   \n",
       "2             0             0              40  United-States  <=50K   \n",
       "3             0             0              40  United-States  <=50K   \n",
       "4             0             0              40           Cuba  <=50K   \n",
       "\n",
       "   age-shifted  \n",
       "0           22  \n",
       "1           33  \n",
       "2           21  \n",
       "3           36  \n",
       "4           11  "
      ]
     },
     "execution_count": 286,
     "metadata": {},
     "output_type": "execute_result"
    }
   ],
   "source": [
    "df_UCI_adult = UCI_adult.data.original\n",
    "df_UCI_adult.head()"
   ]
  },
  {
   "cell_type": "code",
   "execution_count": 276,
   "id": "7226d85c",
   "metadata": {},
   "outputs": [
    {
     "data": {
      "text/html": [
       "<div>\n",
       "<style scoped>\n",
       "    .dataframe tbody tr th:only-of-type {\n",
       "        vertical-align: middle;\n",
       "    }\n",
       "\n",
       "    .dataframe tbody tr th {\n",
       "        vertical-align: top;\n",
       "    }\n",
       "\n",
       "    .dataframe thead th {\n",
       "        text-align: right;\n",
       "    }\n",
       "</style>\n",
       "<table border=\"1\" class=\"dataframe\">\n",
       "  <thead>\n",
       "    <tr style=\"text-align: right;\">\n",
       "      <th></th>\n",
       "      <th>age</th>\n",
       "      <th>workclass</th>\n",
       "      <th>fnlwgt</th>\n",
       "      <th>education-num</th>\n",
       "      <th>marital-status</th>\n",
       "      <th>occupation</th>\n",
       "      <th>relationship</th>\n",
       "      <th>race</th>\n",
       "      <th>sex</th>\n",
       "      <th>capital-gain</th>\n",
       "      <th>capital-loss</th>\n",
       "      <th>hours-per-week</th>\n",
       "      <th>native-country</th>\n",
       "      <th>income&gt;50K</th>\n",
       "    </tr>\n",
       "  </thead>\n",
       "  <tbody>\n",
       "    <tr>\n",
       "      <th>0</th>\n",
       "      <td>23</td>\n",
       "      <td>5</td>\n",
       "      <td>4</td>\n",
       "      <td>12</td>\n",
       "      <td>2</td>\n",
       "      <td>8</td>\n",
       "      <td>3</td>\n",
       "      <td>0</td>\n",
       "      <td>1</td>\n",
       "      <td>2</td>\n",
       "      <td>0</td>\n",
       "      <td>39</td>\n",
       "      <td>0</td>\n",
       "      <td>0</td>\n",
       "    </tr>\n",
       "    <tr>\n",
       "      <th>1</th>\n",
       "      <td>34</td>\n",
       "      <td>1</td>\n",
       "      <td>4</td>\n",
       "      <td>12</td>\n",
       "      <td>0</td>\n",
       "      <td>4</td>\n",
       "      <td>2</td>\n",
       "      <td>0</td>\n",
       "      <td>1</td>\n",
       "      <td>0</td>\n",
       "      <td>0</td>\n",
       "      <td>12</td>\n",
       "      <td>0</td>\n",
       "      <td>0</td>\n",
       "    </tr>\n",
       "    <tr>\n",
       "      <th>2</th>\n",
       "      <td>22</td>\n",
       "      <td>0</td>\n",
       "      <td>13</td>\n",
       "      <td>8</td>\n",
       "      <td>1</td>\n",
       "      <td>6</td>\n",
       "      <td>3</td>\n",
       "      <td>0</td>\n",
       "      <td>1</td>\n",
       "      <td>0</td>\n",
       "      <td>0</td>\n",
       "      <td>39</td>\n",
       "      <td>0</td>\n",
       "      <td>0</td>\n",
       "    </tr>\n",
       "    <tr>\n",
       "      <th>3</th>\n",
       "      <td>37</td>\n",
       "      <td>0</td>\n",
       "      <td>15</td>\n",
       "      <td>6</td>\n",
       "      <td>0</td>\n",
       "      <td>6</td>\n",
       "      <td>2</td>\n",
       "      <td>4</td>\n",
       "      <td>1</td>\n",
       "      <td>0</td>\n",
       "      <td>0</td>\n",
       "      <td>39</td>\n",
       "      <td>0</td>\n",
       "      <td>0</td>\n",
       "    </tr>\n",
       "    <tr>\n",
       "      <th>4</th>\n",
       "      <td>12</td>\n",
       "      <td>0</td>\n",
       "      <td>22</td>\n",
       "      <td>12</td>\n",
       "      <td>0</td>\n",
       "      <td>5</td>\n",
       "      <td>0</td>\n",
       "      <td>4</td>\n",
       "      <td>0</td>\n",
       "      <td>0</td>\n",
       "      <td>0</td>\n",
       "      <td>39</td>\n",
       "      <td>12</td>\n",
       "      <td>0</td>\n",
       "    </tr>\n",
       "  </tbody>\n",
       "</table>\n",
       "</div>"
      ],
      "text/plain": [
       "   age  workclass  fnlwgt  education-num  marital-status  occupation  \\\n",
       "0   23          5       4             12               2           8   \n",
       "1   34          1       4             12               0           4   \n",
       "2   22          0      13              8               1           6   \n",
       "3   37          0      15              6               0           6   \n",
       "4   12          0      22             12               0           5   \n",
       "\n",
       "   relationship  race  sex  capital-gain  capital-loss  hours-per-week  \\\n",
       "0             3     0    1             2             0              39   \n",
       "1             2     0    1             0             0              12   \n",
       "2             3     0    1             0             0              39   \n",
       "3             2     4    1             0             0              39   \n",
       "4             0     4    0             0             0              39   \n",
       "\n",
       "   native-country  income>50K  \n",
       "0               0           0  \n",
       "1               0           0  \n",
       "2               0           0  \n",
       "3               0           0  \n",
       "4              12           0  "
      ]
     },
     "execution_count": 276,
     "metadata": {},
     "output_type": "execute_result"
    }
   ],
   "source": [
    "file_path = \"\"\n",
    "synth_adult = Dataset.load(file_path+'adult.csv', file_path+'adult-domain.json')\n",
    "\n",
    "df_synth_adult = synth_adult.df\n",
    "df_synth_adult.head()"
   ]
  },
  {
   "cell_type": "markdown",
   "id": "18f544b4",
   "metadata": {},
   "source": [
    "# Generate preprocessed files"
   ]
  },
  {
   "cell_type": "code",
   "execution_count": 295,
   "id": "1959074c",
   "metadata": {},
   "outputs": [],
   "source": [
    "def generate_preprocessed_adult_files(df_adult,\n",
    "                                      file_path=\"test/\", \n",
    "                                      csv_name=\"adult.csv\", \n",
    "                                      json_name=\"adult-domain.json\",\n",
    "                                      save_files=False):\n",
    "    # AGE\n",
    "#     # Change age to decades\n",
    "#     df_adult[\"age-decade\"] = df_adult[\"age\"].apply(lambda x: x//10)\n",
    "#     df_adult = df_adult.drop(\"age\", axis=1)\n",
    "#     # Leave as is but move columns\n",
    "#     df_adult = df_adult[\n",
    "#         [col for col in df_adult.columns if col!=\"age\"] + \n",
    "#         [\"age\"]\n",
    "#     ]\n",
    "    # Shift down to 0\n",
    "    df_adult[\"age-shifted\"] = df_adult[\"age\"] - 17\n",
    "    df_adult = df_adult.drop(\"age\", axis=1)\n",
    "    \n",
    "    # WORKCLASS\n",
    "    def workclass_reducer(workclass):\n",
    "        if workclass==\"Private\":\n",
    "            return \"Private\"\n",
    "        elif workclass==\"Self-emp-not-inc\":\n",
    "            return \"Self-emp-not-inc\"\n",
    "        elif workclass==\"Self-emp-inc\":\n",
    "            return \"Self-emp-inc\"\n",
    "        elif workclass==\"Federal-gov\":\n",
    "            return \"Federal-gov\"\n",
    "        elif workclass==\"Local-gov\" or workclass==\"State-gov\":\n",
    "            return \"Local-State-gov\"\n",
    "        else:\n",
    "            return \"Other\"\n",
    "\n",
    "    df_adult[\"workclass-reduced\"] = df_adult[\"workclass\"].apply(workclass_reducer)\n",
    "    df_adult = df_adult.drop(\"workclass\", axis=1)\n",
    "    \n",
    "    # FNLWGT\n",
    "    df_adult = df_adult.drop(\"fnlwgt\", axis=1)\n",
    "    \n",
    "    # EDUCATION/EDUCATION-NUM\n",
    "    df_adult = df_adult.drop(\"education\", axis=1)\n",
    "    \n",
    "    def education_num_reducer(education_num):\n",
    "        if education_num<=6:\n",
    "            return 0\n",
    "        elif education_num>=14:\n",
    "            return 8\n",
    "        else:\n",
    "            return int(education_num)-6\n",
    "#         if education_num<9: # < HS\n",
    "#             return 1\n",
    "#         elif education_num==9 or education_num==10: # HS or some college\n",
    "#             return 2\n",
    "#         elif education_num==11 or education_num==12: # Associates degree\n",
    "#             return 3\n",
    "#         elif education_num==13: # Bachelor's degree\n",
    "#             return 4\n",
    "#         elif education_num==14: # Masters degree\n",
    "#             return 5\n",
    "#         else: # Professional or doctorate degree\n",
    "#             return 6\n",
    "        \n",
    "    df_adult[\"education-reduced\"] = df_adult[\"education-num\"].apply(education_num_reducer)\n",
    "    df_adult = df_adult.drop(\"education-num\", axis=1)\n",
    "    \n",
    "    # MARITAL-STATUS\n",
    "    def marital_status_reducer(marital_status):\n",
    "        if marital_status==\"Married-civ-spouse\" or marital_status==\"Married-AF-spouse\": # Married\n",
    "            return 1\n",
    "        else: # Not married or separated\n",
    "            return 0\n",
    "    \n",
    "    df_adult[\"marital-status-reduced\"] = df_adult[\"marital-status\"].apply(marital_status_reducer)\n",
    "    df_adult = df_adult.drop(\"marital-status\", axis=1)\n",
    "    \n",
    "    # OCCUPATION\n",
    "    def occupation_reducer(occupation):\n",
    "        if pd.isna(occupation):\n",
    "            return \"?\"\n",
    "        else:\n",
    "            return occupation\n",
    "    \n",
    "    df_adult[\"occupation-reduced\"] = df_adult[\"occupation\"].apply(occupation_reducer)\n",
    "    df_adult = df_adult.drop(\"occupation\", axis=1)\n",
    "    \n",
    "    # RELATIONSHIP\n",
    "#     # Leave as is but move columns\n",
    "#     df_adult = df_adult[\n",
    "#         [col for col in df_adult.columns if col!=\"relationship\"] + \n",
    "#         [\"relationship\"]\n",
    "#     ]\n",
    "    df_adult[\"relationship-factorized\"] = pd.factorize(df_adult[\"relationship\"])[0]\n",
    "    df_adult = df_adult.drop(\"relationship\", axis=1)\n",
    "    \n",
    "    # RACE - split into privileged vs. non-privileged\n",
    "    def race_reducer(race):\n",
    "        if race==\"White\": # Privileged\n",
    "            return 1\n",
    "        else: # Non-privileged\n",
    "            return 0\n",
    "    \n",
    "    df_adult[\"race-reduced\"] = df_adult[\"race\"].apply(race_reducer)\n",
    "    df_adult = df_adult.drop(\"race\", axis=1)\n",
    "    \n",
    "    # SEX (0 for female and 1 for male)\n",
    "    def sex_reducer(sex):\n",
    "        if sex==\"Male\":\n",
    "            return 1\n",
    "        else:\n",
    "            return 0\n",
    "        \n",
    "    df_adult[\"sex-num\"] = df_adult[\"sex\"].apply(sex_reducer)\n",
    "    df_adult = df_adult.drop(\"sex\", axis=1)\n",
    "    \n",
    "    # CAPITAL-GAIN\n",
    "    df_adult[\"capital-gain-1000s\"] = df_adult[\"capital-gain\"]//1000\n",
    "    df_adult = df_adult.drop(\"capital-gain\", axis=1)\n",
    "    \n",
    "    # CAPITAL-LOSS\n",
    "    df_adult[\"capital-loss-50s\"] = df_adult[\"capital-loss\"]//50\n",
    "    df_adult = df_adult.drop(\"capital-loss\", axis=1)\n",
    "    \n",
    "    # HOURS-PER-WEEK\n",
    "    # Leave as is but move columns\n",
    "    df_adult = df_adult[\n",
    "        [col for col in df_adult.columns if col!=\"hours-per-week\"] + \n",
    "        [\"hours-per-week\"]\n",
    "    ]\n",
    "    \n",
    "    # NATIVE-COUNTRY\n",
    "    def native_country_reducer(native_country):\n",
    "        if pd.isna(native_country):\n",
    "            return \"?\"\n",
    "        else:\n",
    "            return native_country\n",
    "    \n",
    "    df_adult[\"native-country-reduced\"] = df_adult[\"native-country\"].apply(native_country_reducer)\n",
    "    df_adult = df_adult.drop(\"native-country\", axis=1)\n",
    "    \n",
    "    # INCOME\n",
    "    def income_reducer(income):\n",
    "        if income==\"<=50K\" or income==\"<=50K.\":\n",
    "            return 0\n",
    "        else:\n",
    "            return 1\n",
    "    \n",
    "    df_adult[\"income>50K\"] = df_adult[\"income\"].apply(income_reducer)\n",
    "    df_adult = df_adult.drop(\"income\", axis=1)\n",
    "    \n",
    "    # Save files\n",
    "    if save_files:\n",
    "        df_adult.to_csv(file_path + csv_name, index=False)\n",
    "        \n",
    "        adult_domain = {\n",
    "            \"age-shifted\": 80,\n",
    "            \"workclass-reduced\": 6,\n",
    "            \"education-reduced\": 9,\n",
    "            \"marital-status-reduced\": 2,\n",
    "            \"occupation-reduced\": 15,\n",
    "            \"relationship-factorized\": 6,\n",
    "            \"race-reduced\": 2,\n",
    "            \"sex-num\": 2,\n",
    "            \"capital-gain-1000s\": 100,\n",
    "            \"capital-loss-50s\": 100,\n",
    "            \"hours-per-week\": 99,\n",
    "            \"native-country-reduced\": 42,\n",
    "            \"income>50K\": 2\n",
    "        }\n",
    "        \n",
    "        with open(file_path + json_name, 'w') as json_file:\n",
    "            json.dump(adult_domain, json_file)\n",
    "        \n",
    "    \n",
    "    return df_adult"
   ]
  },
  {
   "cell_type": "code",
   "execution_count": 296,
   "id": "fae1d218",
   "metadata": {},
   "outputs": [
    {
     "data": {
      "text/html": [
       "<div>\n",
       "<style scoped>\n",
       "    .dataframe tbody tr th:only-of-type {\n",
       "        vertical-align: middle;\n",
       "    }\n",
       "\n",
       "    .dataframe tbody tr th {\n",
       "        vertical-align: top;\n",
       "    }\n",
       "\n",
       "    .dataframe thead th {\n",
       "        text-align: right;\n",
       "    }\n",
       "</style>\n",
       "<table border=\"1\" class=\"dataframe\">\n",
       "  <thead>\n",
       "    <tr style=\"text-align: right;\">\n",
       "      <th></th>\n",
       "      <th>age</th>\n",
       "      <th>workclass</th>\n",
       "      <th>fnlwgt</th>\n",
       "      <th>education</th>\n",
       "      <th>education-num</th>\n",
       "      <th>marital-status</th>\n",
       "      <th>occupation</th>\n",
       "      <th>relationship</th>\n",
       "      <th>race</th>\n",
       "      <th>sex</th>\n",
       "      <th>capital-gain</th>\n",
       "      <th>capital-loss</th>\n",
       "      <th>hours-per-week</th>\n",
       "      <th>native-country</th>\n",
       "      <th>income</th>\n",
       "      <th>age-shifted</th>\n",
       "    </tr>\n",
       "  </thead>\n",
       "  <tbody>\n",
       "    <tr>\n",
       "      <th>0</th>\n",
       "      <td>39</td>\n",
       "      <td>State-gov</td>\n",
       "      <td>77516</td>\n",
       "      <td>Bachelors</td>\n",
       "      <td>13</td>\n",
       "      <td>Never-married</td>\n",
       "      <td>Adm-clerical</td>\n",
       "      <td>Not-in-family</td>\n",
       "      <td>White</td>\n",
       "      <td>Male</td>\n",
       "      <td>2174</td>\n",
       "      <td>0</td>\n",
       "      <td>40</td>\n",
       "      <td>United-States</td>\n",
       "      <td>&lt;=50K</td>\n",
       "      <td>22</td>\n",
       "    </tr>\n",
       "    <tr>\n",
       "      <th>1</th>\n",
       "      <td>50</td>\n",
       "      <td>Self-emp-not-inc</td>\n",
       "      <td>83311</td>\n",
       "      <td>Bachelors</td>\n",
       "      <td>13</td>\n",
       "      <td>Married-civ-spouse</td>\n",
       "      <td>Exec-managerial</td>\n",
       "      <td>Husband</td>\n",
       "      <td>White</td>\n",
       "      <td>Male</td>\n",
       "      <td>0</td>\n",
       "      <td>0</td>\n",
       "      <td>13</td>\n",
       "      <td>United-States</td>\n",
       "      <td>&lt;=50K</td>\n",
       "      <td>33</td>\n",
       "    </tr>\n",
       "    <tr>\n",
       "      <th>2</th>\n",
       "      <td>38</td>\n",
       "      <td>Private</td>\n",
       "      <td>215646</td>\n",
       "      <td>HS-grad</td>\n",
       "      <td>9</td>\n",
       "      <td>Divorced</td>\n",
       "      <td>Handlers-cleaners</td>\n",
       "      <td>Not-in-family</td>\n",
       "      <td>White</td>\n",
       "      <td>Male</td>\n",
       "      <td>0</td>\n",
       "      <td>0</td>\n",
       "      <td>40</td>\n",
       "      <td>United-States</td>\n",
       "      <td>&lt;=50K</td>\n",
       "      <td>21</td>\n",
       "    </tr>\n",
       "    <tr>\n",
       "      <th>3</th>\n",
       "      <td>53</td>\n",
       "      <td>Private</td>\n",
       "      <td>234721</td>\n",
       "      <td>11th</td>\n",
       "      <td>7</td>\n",
       "      <td>Married-civ-spouse</td>\n",
       "      <td>Handlers-cleaners</td>\n",
       "      <td>Husband</td>\n",
       "      <td>Black</td>\n",
       "      <td>Male</td>\n",
       "      <td>0</td>\n",
       "      <td>0</td>\n",
       "      <td>40</td>\n",
       "      <td>United-States</td>\n",
       "      <td>&lt;=50K</td>\n",
       "      <td>36</td>\n",
       "    </tr>\n",
       "    <tr>\n",
       "      <th>4</th>\n",
       "      <td>28</td>\n",
       "      <td>Private</td>\n",
       "      <td>338409</td>\n",
       "      <td>Bachelors</td>\n",
       "      <td>13</td>\n",
       "      <td>Married-civ-spouse</td>\n",
       "      <td>Prof-specialty</td>\n",
       "      <td>Wife</td>\n",
       "      <td>Black</td>\n",
       "      <td>Female</td>\n",
       "      <td>0</td>\n",
       "      <td>0</td>\n",
       "      <td>40</td>\n",
       "      <td>Cuba</td>\n",
       "      <td>&lt;=50K</td>\n",
       "      <td>11</td>\n",
       "    </tr>\n",
       "  </tbody>\n",
       "</table>\n",
       "</div>"
      ],
      "text/plain": [
       "   age         workclass  fnlwgt  education  education-num  \\\n",
       "0   39         State-gov   77516  Bachelors             13   \n",
       "1   50  Self-emp-not-inc   83311  Bachelors             13   \n",
       "2   38           Private  215646    HS-grad              9   \n",
       "3   53           Private  234721       11th              7   \n",
       "4   28           Private  338409  Bachelors             13   \n",
       "\n",
       "       marital-status         occupation   relationship   race     sex  \\\n",
       "0       Never-married       Adm-clerical  Not-in-family  White    Male   \n",
       "1  Married-civ-spouse    Exec-managerial        Husband  White    Male   \n",
       "2            Divorced  Handlers-cleaners  Not-in-family  White    Male   \n",
       "3  Married-civ-spouse  Handlers-cleaners        Husband  Black    Male   \n",
       "4  Married-civ-spouse     Prof-specialty           Wife  Black  Female   \n",
       "\n",
       "   capital-gain  capital-loss  hours-per-week native-country income  \\\n",
       "0          2174             0              40  United-States  <=50K   \n",
       "1             0             0              13  United-States  <=50K   \n",
       "2             0             0              40  United-States  <=50K   \n",
       "3             0             0              40  United-States  <=50K   \n",
       "4             0             0              40           Cuba  <=50K   \n",
       "\n",
       "   age-shifted  \n",
       "0           22  \n",
       "1           33  \n",
       "2           21  \n",
       "3           36  \n",
       "4           11  "
      ]
     },
     "execution_count": 296,
     "metadata": {},
     "output_type": "execute_result"
    }
   ],
   "source": [
    "df_UCI_adult.head()"
   ]
  },
  {
   "cell_type": "code",
   "execution_count": 297,
   "id": "9e9f52f6",
   "metadata": {},
   "outputs": [
    {
     "data": {
      "text/html": [
       "<div>\n",
       "<style scoped>\n",
       "    .dataframe tbody tr th:only-of-type {\n",
       "        vertical-align: middle;\n",
       "    }\n",
       "\n",
       "    .dataframe tbody tr th {\n",
       "        vertical-align: top;\n",
       "    }\n",
       "\n",
       "    .dataframe thead th {\n",
       "        text-align: right;\n",
       "    }\n",
       "</style>\n",
       "<table border=\"1\" class=\"dataframe\">\n",
       "  <thead>\n",
       "    <tr style=\"text-align: right;\">\n",
       "      <th></th>\n",
       "      <th>age-shifted</th>\n",
       "      <th>workclass-reduced</th>\n",
       "      <th>education-reduced</th>\n",
       "      <th>marital-status-reduced</th>\n",
       "      <th>occupation-reduced</th>\n",
       "      <th>relationship-factorized</th>\n",
       "      <th>race-reduced</th>\n",
       "      <th>sex-num</th>\n",
       "      <th>capital-gain-1000s</th>\n",
       "      <th>capital-loss-50s</th>\n",
       "      <th>hours-per-week</th>\n",
       "      <th>native-country-reduced</th>\n",
       "      <th>income&gt;50K</th>\n",
       "    </tr>\n",
       "  </thead>\n",
       "  <tbody>\n",
       "    <tr>\n",
       "      <th>0</th>\n",
       "      <td>22</td>\n",
       "      <td>Local-State-gov</td>\n",
       "      <td>7</td>\n",
       "      <td>0</td>\n",
       "      <td>Adm-clerical</td>\n",
       "      <td>0</td>\n",
       "      <td>1</td>\n",
       "      <td>1</td>\n",
       "      <td>2</td>\n",
       "      <td>0</td>\n",
       "      <td>40</td>\n",
       "      <td>United-States</td>\n",
       "      <td>0</td>\n",
       "    </tr>\n",
       "    <tr>\n",
       "      <th>1</th>\n",
       "      <td>33</td>\n",
       "      <td>Self-emp-not-inc</td>\n",
       "      <td>7</td>\n",
       "      <td>1</td>\n",
       "      <td>Exec-managerial</td>\n",
       "      <td>1</td>\n",
       "      <td>1</td>\n",
       "      <td>1</td>\n",
       "      <td>0</td>\n",
       "      <td>0</td>\n",
       "      <td>13</td>\n",
       "      <td>United-States</td>\n",
       "      <td>0</td>\n",
       "    </tr>\n",
       "    <tr>\n",
       "      <th>2</th>\n",
       "      <td>21</td>\n",
       "      <td>Private</td>\n",
       "      <td>3</td>\n",
       "      <td>0</td>\n",
       "      <td>Handlers-cleaners</td>\n",
       "      <td>0</td>\n",
       "      <td>1</td>\n",
       "      <td>1</td>\n",
       "      <td>0</td>\n",
       "      <td>0</td>\n",
       "      <td>40</td>\n",
       "      <td>United-States</td>\n",
       "      <td>0</td>\n",
       "    </tr>\n",
       "    <tr>\n",
       "      <th>3</th>\n",
       "      <td>36</td>\n",
       "      <td>Private</td>\n",
       "      <td>1</td>\n",
       "      <td>1</td>\n",
       "      <td>Handlers-cleaners</td>\n",
       "      <td>1</td>\n",
       "      <td>0</td>\n",
       "      <td>1</td>\n",
       "      <td>0</td>\n",
       "      <td>0</td>\n",
       "      <td>40</td>\n",
       "      <td>United-States</td>\n",
       "      <td>0</td>\n",
       "    </tr>\n",
       "    <tr>\n",
       "      <th>4</th>\n",
       "      <td>11</td>\n",
       "      <td>Private</td>\n",
       "      <td>7</td>\n",
       "      <td>1</td>\n",
       "      <td>Prof-specialty</td>\n",
       "      <td>2</td>\n",
       "      <td>0</td>\n",
       "      <td>0</td>\n",
       "      <td>0</td>\n",
       "      <td>0</td>\n",
       "      <td>40</td>\n",
       "      <td>Cuba</td>\n",
       "      <td>0</td>\n",
       "    </tr>\n",
       "  </tbody>\n",
       "</table>\n",
       "</div>"
      ],
      "text/plain": [
       "   age-shifted workclass-reduced  education-reduced  marital-status-reduced  \\\n",
       "0           22   Local-State-gov                  7                       0   \n",
       "1           33  Self-emp-not-inc                  7                       1   \n",
       "2           21           Private                  3                       0   \n",
       "3           36           Private                  1                       1   \n",
       "4           11           Private                  7                       1   \n",
       "\n",
       "  occupation-reduced  relationship-factorized  race-reduced  sex-num  \\\n",
       "0       Adm-clerical                        0             1        1   \n",
       "1    Exec-managerial                        1             1        1   \n",
       "2  Handlers-cleaners                        0             1        1   \n",
       "3  Handlers-cleaners                        1             0        1   \n",
       "4     Prof-specialty                        2             0        0   \n",
       "\n",
       "   capital-gain-1000s  capital-loss-50s  hours-per-week  \\\n",
       "0                   2                 0              40   \n",
       "1                   0                 0              13   \n",
       "2                   0                 0              40   \n",
       "3                   0                 0              40   \n",
       "4                   0                 0              40   \n",
       "\n",
       "  native-country-reduced  income>50K  \n",
       "0          United-States           0  \n",
       "1          United-States           0  \n",
       "2          United-States           0  \n",
       "3          United-States           0  \n",
       "4                   Cuba           0  "
      ]
     },
     "execution_count": 297,
     "metadata": {},
     "output_type": "execute_result"
    }
   ],
   "source": [
    "df_preprocessed = generate_preprocessed_adult_files(df_UCI_adult, save_files=True)\n",
    "df_preprocessed.head()"
   ]
  },
  {
   "cell_type": "markdown",
   "id": "81669ad0",
   "metadata": {},
   "source": [
    "# Experiments with each variable"
   ]
  },
  {
   "cell_type": "markdown",
   "id": "a7fa32ec",
   "metadata": {},
   "source": [
    "## Age"
   ]
  },
  {
   "cell_type": "markdown",
   "id": "997f61c4",
   "metadata": {},
   "source": [
    "Age was apparently converted to the private-pgm format by subtracting by 16 so that the smallest value is 1."
   ]
  },
  {
   "cell_type": "code",
   "execution_count": 84,
   "id": "146bad91",
   "metadata": {},
   "outputs": [
    {
     "data": {
      "text/plain": [
       "36    1348\n",
       "35    1337\n",
       "33    1335\n",
       "23    1329\n",
       "31    1325\n",
       "      ... \n",
       "88       6\n",
       "85       5\n",
       "87       3\n",
       "89       2\n",
       "86       1\n",
       "Name: age, Length: 74, dtype: int64"
      ]
     },
     "execution_count": 84,
     "metadata": {},
     "output_type": "execute_result"
    }
   ],
   "source": [
    "df_UCI_adult.age.value_counts()"
   ]
  },
  {
   "cell_type": "code",
   "execution_count": 85,
   "id": "eccea031",
   "metadata": {},
   "outputs": [
    {
     "data": {
      "text/plain": [
       "20    1348\n",
       "19    1337\n",
       "17    1335\n",
       "7     1329\n",
       "15    1325\n",
       "      ... \n",
       "72       6\n",
       "69       5\n",
       "71       3\n",
       "73       2\n",
       "70       1\n",
       "Name: age, Length: 74, dtype: int64"
      ]
     },
     "execution_count": 85,
     "metadata": {},
     "output_type": "execute_result"
    }
   ],
   "source": [
    "df_synth_adult.age.value_counts()"
   ]
  },
  {
   "cell_type": "code",
   "execution_count": 27,
   "id": "2a2c9acd",
   "metadata": {},
   "outputs": [
    {
     "data": {
      "text/plain": [
       "True"
      ]
     },
     "execution_count": 27,
     "metadata": {},
     "output_type": "execute_result"
    }
   ],
   "source": [
    "((df_UCI_adult.age-16)==df_synth_adult.age).all()"
   ]
  },
  {
   "cell_type": "code",
   "execution_count": 22,
   "id": "a67adfb9",
   "metadata": {},
   "outputs": [
    {
     "data": {
      "text/plain": [
       "17"
      ]
     },
     "execution_count": 22,
     "metadata": {},
     "output_type": "execute_result"
    }
   ],
   "source": [
    "df_UCI_adult.age.min()"
   ]
  },
  {
   "cell_type": "code",
   "execution_count": 29,
   "id": "1311edec",
   "metadata": {},
   "outputs": [
    {
     "data": {
      "text/plain": [
       "90"
      ]
     },
     "execution_count": 29,
     "metadata": {},
     "output_type": "execute_result"
    }
   ],
   "source": [
    "df_UCI_adult.age.max()"
   ]
  },
  {
   "cell_type": "markdown",
   "id": "2f671f7b",
   "metadata": {},
   "source": [
    "Since my experiments have shown that breaking into decades does not significantly impact performance, I could also break into decades as follows."
   ]
  },
  {
   "cell_type": "code",
   "execution_count": 36,
   "id": "f4c64f67",
   "metadata": {},
   "outputs": [
    {
     "data": {
      "text/plain": [
       "3    12929\n",
       "2    12005\n",
       "4    10724\n",
       "5     6619\n",
       "6     3054\n",
       "1     2510\n",
       "7      815\n",
       "8      131\n",
       "9       55\n",
       "Name: age, dtype: int64"
      ]
     },
     "execution_count": 36,
     "metadata": {},
     "output_type": "execute_result"
    }
   ],
   "source": [
    "(df_UCI_adult.age//10).value_counts()"
   ]
  },
  {
   "cell_type": "markdown",
   "id": "9136b628",
   "metadata": {},
   "source": [
    "## Workclass"
   ]
  },
  {
   "cell_type": "code",
   "execution_count": 53,
   "id": "7c35f436",
   "metadata": {},
   "outputs": [
    {
     "data": {
      "text/plain": [
       "Private             33906\n",
       "Self-emp-not-inc     3862\n",
       "Local-gov            3136\n",
       "State-gov            1981\n",
       "?                    1836\n",
       "Self-emp-inc         1695\n",
       "Federal-gov          1432\n",
       "NaN                   963\n",
       "Without-pay            21\n",
       "Never-worked           10\n",
       "Name: workclass, dtype: int64"
      ]
     },
     "execution_count": 53,
     "metadata": {},
     "output_type": "execute_result"
    }
   ],
   "source": [
    "df_UCI_adult.workclass.value_counts(dropna=False)"
   ]
  },
  {
   "cell_type": "code",
   "execution_count": 42,
   "id": "73672a43",
   "metadata": {},
   "outputs": [
    {
     "data": {
      "text/plain": [
       "0    33906\n",
       "1     3862\n",
       "4     3136\n",
       "8     2799\n",
       "5     1981\n",
       "2     1695\n",
       "3     1432\n",
       "6       21\n",
       "7       10\n",
       "Name: workclass, dtype: int64"
      ]
     },
     "execution_count": 42,
     "metadata": {},
     "output_type": "execute_result"
    }
   ],
   "source": [
    "df_synth_adult.workclass.value_counts()"
   ]
  },
  {
   "cell_type": "code",
   "execution_count": 54,
   "id": "8246fe69",
   "metadata": {},
   "outputs": [
    {
     "data": {
      "text/plain": [
       "0.21786704418097091"
      ]
     },
     "execution_count": 54,
     "metadata": {},
     "output_type": "execute_result"
    }
   ],
   "source": [
    "# Private\n",
    "df_synth_adult[df_synth_adult.workclass==0][\"income>50K\"].mean()"
   ]
  },
  {
   "cell_type": "code",
   "execution_count": 55,
   "id": "b73b274e",
   "metadata": {},
   "outputs": [
    {
     "data": {
      "text/plain": [
       "0.27887105126877265"
      ]
     },
     "execution_count": 55,
     "metadata": {},
     "output_type": "execute_result"
    }
   ],
   "source": [
    "# Self-emp-not-inc\n",
    "df_synth_adult[df_synth_adult.workclass==1][\"income>50K\"].mean()"
   ]
  },
  {
   "cell_type": "code",
   "execution_count": 56,
   "id": "6269c393",
   "metadata": {},
   "outputs": [
    {
     "data": {
      "text/plain": [
       "0.5533923303834808"
      ]
     },
     "execution_count": 56,
     "metadata": {},
     "output_type": "execute_result"
    }
   ],
   "source": [
    "# Self-emp-inc\n",
    "df_synth_adult[df_synth_adult.workclass==2][\"income>50K\"].mean()"
   ]
  },
  {
   "cell_type": "code",
   "execution_count": 57,
   "id": "9408b80b",
   "metadata": {},
   "outputs": [
    {
     "data": {
      "text/plain": [
       "0.39175977653631283"
      ]
     },
     "execution_count": 57,
     "metadata": {},
     "output_type": "execute_result"
    }
   ],
   "source": [
    "# Federal-gov\n",
    "df_synth_adult[df_synth_adult.workclass==3][\"income>50K\"].mean()"
   ]
  },
  {
   "cell_type": "code",
   "execution_count": 59,
   "id": "0c72f9f5",
   "metadata": {},
   "outputs": [
    {
     "data": {
      "text/plain": [
       "0.2955994897959184"
      ]
     },
     "execution_count": 59,
     "metadata": {},
     "output_type": "execute_result"
    }
   ],
   "source": [
    "# Local-gov\n",
    "df_synth_adult[df_synth_adult.workclass==4][\"income>50K\"].mean()"
   ]
  },
  {
   "cell_type": "code",
   "execution_count": 58,
   "id": "dbec0184",
   "metadata": {},
   "outputs": [
    {
     "data": {
      "text/plain": [
       "0.2675416456335184"
      ]
     },
     "execution_count": 58,
     "metadata": {},
     "output_type": "execute_result"
    }
   ],
   "source": [
    "# State-gov\n",
    "df_synth_adult[df_synth_adult.workclass==5][\"income>50K\"].mean()"
   ]
  },
  {
   "cell_type": "code",
   "execution_count": 60,
   "id": "fb242ebf",
   "metadata": {},
   "outputs": [
    {
     "data": {
      "text/plain": [
       "0.09523809523809523"
      ]
     },
     "execution_count": 60,
     "metadata": {},
     "output_type": "execute_result"
    }
   ],
   "source": [
    "# Without-pay\n",
    "df_synth_adult[df_synth_adult.workclass==6][\"income>50K\"].mean()"
   ]
  },
  {
   "cell_type": "code",
   "execution_count": 61,
   "id": "d532abdb",
   "metadata": {},
   "outputs": [
    {
     "data": {
      "text/plain": [
       "0.0"
      ]
     },
     "execution_count": 61,
     "metadata": {},
     "output_type": "execute_result"
    }
   ],
   "source": [
    "# Never-worked\n",
    "df_synth_adult[df_synth_adult.workclass==7][\"income>50K\"].mean()"
   ]
  },
  {
   "cell_type": "code",
   "execution_count": 62,
   "id": "732cad57",
   "metadata": {},
   "outputs": [
    {
     "data": {
      "text/plain": [
       "0.09467667023937121"
      ]
     },
     "execution_count": 62,
     "metadata": {},
     "output_type": "execute_result"
    }
   ],
   "source": [
    "# ?\n",
    "df_synth_adult[df_synth_adult.workclass==8][\"income>50K\"].mean()"
   ]
  },
  {
   "cell_type": "markdown",
   "id": "7a740775",
   "metadata": {},
   "source": [
    "Several ways to break this down. My current plan is to do 6 categories (private, self-emp-not-inc, self-emp-inc, federal-gov, state-local-gov, other)."
   ]
  },
  {
   "cell_type": "markdown",
   "id": "893eac23",
   "metadata": {},
   "source": [
    "## Fnlwgt"
   ]
  },
  {
   "cell_type": "code",
   "execution_count": 160,
   "id": "d9d37d7e",
   "metadata": {},
   "outputs": [
    {
     "data": {
      "text/plain": [
       "203488    21\n",
       "120277    19\n",
       "190290    19\n",
       "125892    18\n",
       "126569    18\n",
       "          ..\n",
       "286983     1\n",
       "185942     1\n",
       "234220     1\n",
       "214706     1\n",
       "350977     1\n",
       "Name: fnlwgt, Length: 28523, dtype: int64"
      ]
     },
     "execution_count": 160,
     "metadata": {},
     "output_type": "execute_result"
    }
   ],
   "source": [
    "df_UCI_adult.fnlwgt.value_counts()"
   ]
  },
  {
   "cell_type": "code",
   "execution_count": 68,
   "id": "ecd4f038",
   "metadata": {},
   "outputs": [
    {
     "data": {
      "text/plain": [
       "11    4162\n",
       "12    3899\n",
       "10    3394\n",
       "6     3014\n",
       "7     2940\n",
       "      ... \n",
       "65       1\n",
       "61       1\n",
       "98       1\n",
       "99       1\n",
       "80       1\n",
       "Name: fnlwgt, Length: 77, dtype: int64"
      ]
     },
     "execution_count": 68,
     "metadata": {},
     "output_type": "execute_result"
    }
   ],
   "source": [
    "df_synth_adult.fnlwgt.value_counts()"
   ]
  },
  {
   "cell_type": "markdown",
   "id": "a5a0fd0b",
   "metadata": {},
   "source": [
    "Not sure what is going on with this column. I will just drop it..."
   ]
  },
  {
   "cell_type": "markdown",
   "id": "ea620005",
   "metadata": {},
   "source": [
    "## Education/education-num"
   ]
  },
  {
   "cell_type": "code",
   "execution_count": 81,
   "id": "3767d1fb",
   "metadata": {
    "scrolled": true
   },
   "outputs": [
    {
     "data": {
      "text/plain": [
       "HS-grad         15784\n",
       "Some-college    10878\n",
       "Bachelors        8025\n",
       "Masters          2657\n",
       "Assoc-voc        2061\n",
       "11th             1812\n",
       "Assoc-acdm       1601\n",
       "10th             1389\n",
       "7th-8th           955\n",
       "Prof-school       834\n",
       "9th               756\n",
       "12th              657\n",
       "Doctorate         594\n",
       "5th-6th           509\n",
       "1st-4th           247\n",
       "Preschool          83\n",
       "Name: education, dtype: int64"
      ]
     },
     "execution_count": 81,
     "metadata": {},
     "output_type": "execute_result"
    }
   ],
   "source": [
    "df_UCI_adult.education.value_counts()"
   ]
  },
  {
   "cell_type": "code",
   "execution_count": 83,
   "id": "9cb400fa",
   "metadata": {},
   "outputs": [
    {
     "data": {
      "text/plain": [
       "9     15784\n",
       "10    10878\n",
       "13     8025\n",
       "14     2657\n",
       "11     2061\n",
       "7      1812\n",
       "12     1601\n",
       "6      1389\n",
       "4       955\n",
       "15      834\n",
       "5       756\n",
       "8       657\n",
       "16      594\n",
       "3       509\n",
       "2       247\n",
       "1        83\n",
       "Name: education-num, dtype: int64"
      ]
     },
     "execution_count": 83,
     "metadata": {},
     "output_type": "execute_result"
    }
   ],
   "source": [
    "df_UCI_adult[\"education-num\"].value_counts()"
   ]
  },
  {
   "cell_type": "code",
   "execution_count": 82,
   "id": "bb3aab00",
   "metadata": {},
   "outputs": [
    {
     "data": {
      "text/plain": [
       "8     15784\n",
       "9     10878\n",
       "12     8025\n",
       "13     2657\n",
       "10     2061\n",
       "6      1812\n",
       "11     1601\n",
       "5      1389\n",
       "3       955\n",
       "14      834\n",
       "4       756\n",
       "7       657\n",
       "15      594\n",
       "2       509\n",
       "1       247\n",
       "0        83\n",
       "Name: education-num, dtype: int64"
      ]
     },
     "execution_count": 82,
     "metadata": {},
     "output_type": "execute_result"
    }
   ],
   "source": [
    "df_synth_adult[\"education-num\"].value_counts()"
   ]
  },
  {
   "cell_type": "code",
   "execution_count": 92,
   "id": "f7378ed5",
   "metadata": {},
   "outputs": [
    {
     "data": {
      "text/plain": [
       "education-num\n",
       "0     0.012048\n",
       "1     0.032389\n",
       "2     0.053045\n",
       "3     0.064921\n",
       "4     0.054233\n",
       "5     0.062635\n",
       "6     0.050773\n",
       "7     0.073059\n",
       "8     0.158578\n",
       "9     0.189649\n",
       "10    0.253275\n",
       "11    0.257964\n",
       "12    0.412835\n",
       "13    0.549116\n",
       "14    0.739808\n",
       "15    0.725589\n",
       "Name: income>50K, dtype: float64"
      ]
     },
     "execution_count": 92,
     "metadata": {},
     "output_type": "execute_result"
    }
   ],
   "source": [
    "df_synth_adult.groupby(\"education-num\")[\"income>50K\"].mean()"
   ]
  },
  {
   "cell_type": "markdown",
   "id": "50d387d1",
   "metadata": {},
   "source": [
    "It appears all three of these columns give the same information, except that the one used in the private-pgm code subtracts 1 from each value. I will just keep it as is and drop the non-numeric education column."
   ]
  },
  {
   "cell_type": "markdown",
   "id": "9672b11f",
   "metadata": {},
   "source": [
    "## Marital-status"
   ]
  },
  {
   "cell_type": "code",
   "execution_count": 90,
   "id": "e5b14652",
   "metadata": {},
   "outputs": [
    {
     "data": {
      "text/plain": [
       "Married-civ-spouse       22379\n",
       "Never-married            16117\n",
       "Divorced                  6633\n",
       "Separated                 1530\n",
       "Widowed                   1518\n",
       "Married-spouse-absent      628\n",
       "Married-AF-spouse           37\n",
       "Name: marital-status, dtype: int64"
      ]
     },
     "execution_count": 90,
     "metadata": {},
     "output_type": "execute_result"
    }
   ],
   "source": [
    "df_UCI_adult[\"marital-status\"].value_counts()"
   ]
  },
  {
   "cell_type": "code",
   "execution_count": 91,
   "id": "347d4716",
   "metadata": {},
   "outputs": [
    {
     "data": {
      "text/plain": [
       "0    22379\n",
       "2    16117\n",
       "1     6633\n",
       "3     1530\n",
       "4     1518\n",
       "5      628\n",
       "6       37\n",
       "Name: marital-status, dtype: int64"
      ]
     },
     "execution_count": 91,
     "metadata": {},
     "output_type": "execute_result"
    }
   ],
   "source": [
    "df_synth_adult[\"marital-status\"].value_counts()"
   ]
  },
  {
   "cell_type": "code",
   "execution_count": 97,
   "id": "b7ab023a",
   "metadata": {},
   "outputs": [
    {
     "data": {
      "text/plain": [
       "marital-status\n",
       "0    0.446133\n",
       "1    0.101161\n",
       "2    0.045480\n",
       "3    0.064706\n",
       "4    0.084321\n",
       "5    0.092357\n",
       "6    0.378378\n",
       "Name: income>50K, dtype: float64"
      ]
     },
     "execution_count": 97,
     "metadata": {},
     "output_type": "execute_result"
    }
   ],
   "source": [
    "df_synth_adult.groupby(\"marital-status\")[\"income>50K\"].mean()"
   ]
  },
  {
   "cell_type": "markdown",
   "id": "a1c4e038",
   "metadata": {},
   "source": [
    "## Occupation"
   ]
  },
  {
   "cell_type": "code",
   "execution_count": 103,
   "id": "98ecc72e",
   "metadata": {},
   "outputs": [
    {
     "data": {
      "text/plain": [
       "Prof-specialty       6172\n",
       "Craft-repair         6112\n",
       "Exec-managerial      6086\n",
       "Adm-clerical         5611\n",
       "Sales                5504\n",
       "Other-service        4923\n",
       "Machine-op-inspct    3022\n",
       "Transport-moving     2355\n",
       "Handlers-cleaners    2072\n",
       "?                    1843\n",
       "Farming-fishing      1490\n",
       "Tech-support         1446\n",
       "Protective-serv       983\n",
       "NaN                   966\n",
       "Priv-house-serv       242\n",
       "Armed-Forces           15\n",
       "Name: occupation, dtype: int64"
      ]
     },
     "execution_count": 103,
     "metadata": {},
     "output_type": "execute_result"
    }
   ],
   "source": [
    "df_UCI_adult.occupation.value_counts(dropna=False)"
   ]
  },
  {
   "cell_type": "code",
   "execution_count": 104,
   "id": "8519f5db",
   "metadata": {},
   "outputs": [
    {
     "data": {
      "text/plain": [
       "5     6172\n",
       "1     6112\n",
       "4     6086\n",
       "8     5611\n",
       "3     5504\n",
       "2     4923\n",
       "7     3022\n",
       "14    2809\n",
       "10    2355\n",
       "6     2072\n",
       "9     1490\n",
       "0     1446\n",
       "12     983\n",
       "11     242\n",
       "13      15\n",
       "Name: occupation, dtype: int64"
      ]
     },
     "execution_count": 104,
     "metadata": {},
     "output_type": "execute_result"
    }
   ],
   "source": [
    "df_synth_adult.occupation.value_counts()"
   ]
  },
  {
   "cell_type": "code",
   "execution_count": 105,
   "id": "f4669e9a",
   "metadata": {},
   "outputs": [
    {
     "data": {
      "text/plain": [
       "occupation\n",
       "0     0.290456\n",
       "1     0.226276\n",
       "2     0.041438\n",
       "3     0.267987\n",
       "4     0.477818\n",
       "5     0.451069\n",
       "6     0.066602\n",
       "7     0.123097\n",
       "8     0.136874\n",
       "9     0.116107\n",
       "10    0.204246\n",
       "11    0.012397\n",
       "12    0.313327\n",
       "13    0.333333\n",
       "14    0.094340\n",
       "Name: income>50K, dtype: float64"
      ]
     },
     "execution_count": 105,
     "metadata": {},
     "output_type": "execute_result"
    }
   ],
   "source": [
    "df_synth_adult.groupby(\"occupation\")[\"income>50K\"].mean()"
   ]
  },
  {
   "cell_type": "markdown",
   "id": "03858ad8",
   "metadata": {},
   "source": [
    "Not sure how to reduce the count of these. I'll just convert NaNs and ?'s to Other for now."
   ]
  },
  {
   "cell_type": "markdown",
   "id": "58f73ed5",
   "metadata": {},
   "source": [
    "## Relationship"
   ]
  },
  {
   "cell_type": "code",
   "execution_count": 138,
   "id": "43825611",
   "metadata": {},
   "outputs": [
    {
     "data": {
      "text/plain": [
       "Husband           19716\n",
       "Not-in-family     12583\n",
       "Own-child          7581\n",
       "Unmarried          5125\n",
       "Wife               2331\n",
       "Other-relative     1506\n",
       "Name: relationship, dtype: int64"
      ]
     },
     "execution_count": 138,
     "metadata": {},
     "output_type": "execute_result"
    }
   ],
   "source": [
    "df_UCI_adult.relationship.value_counts()"
   ]
  },
  {
   "cell_type": "code",
   "execution_count": 291,
   "id": "625eee27",
   "metadata": {},
   "outputs": [
    {
     "data": {
      "text/plain": [
       "(array([0, 1, 0, ..., 1, 3, 1]),\n",
       " Index(['Not-in-family', 'Husband', 'Wife', 'Own-child', 'Unmarried',\n",
       "        'Other-relative'],\n",
       "       dtype='object'))"
      ]
     },
     "execution_count": 291,
     "metadata": {},
     "output_type": "execute_result"
    }
   ],
   "source": [
    "pd.factorize(df_UCI_adult.relationship)"
   ]
  },
  {
   "cell_type": "code",
   "execution_count": 139,
   "id": "3c865735",
   "metadata": {},
   "outputs": [
    {
     "data": {
      "text/plain": [
       "2    19716\n",
       "3    12583\n",
       "1     7581\n",
       "5     5125\n",
       "0     2331\n",
       "4     1506\n",
       "Name: relationship, dtype: int64"
      ]
     },
     "execution_count": 139,
     "metadata": {},
     "output_type": "execute_result"
    }
   ],
   "source": [
    "df_synth_adult.relationship.value_counts()"
   ]
  },
  {
   "cell_type": "code",
   "execution_count": 140,
   "id": "69685dc4",
   "metadata": {},
   "outputs": [
    {
     "data": {
      "text/plain": [
       "relationship\n",
       "0    0.468897\n",
       "1    0.014642\n",
       "2    0.448671\n",
       "3    0.101407\n",
       "4    0.034529\n",
       "5    0.060293\n",
       "Name: income>50K, dtype: float64"
      ]
     },
     "execution_count": 140,
     "metadata": {},
     "output_type": "execute_result"
    }
   ],
   "source": [
    "df_synth_adult.groupby(\"relationship\")[\"income>50K\"].mean()"
   ]
  },
  {
   "cell_type": "markdown",
   "id": "81096f93",
   "metadata": {},
   "source": [
    "All of these seem independently interesting and without a clear way to reduce to groups. I'll keep as is."
   ]
  },
  {
   "cell_type": "markdown",
   "id": "f3557df8",
   "metadata": {},
   "source": [
    "## Race"
   ]
  },
  {
   "cell_type": "code",
   "execution_count": 141,
   "id": "bacc397a",
   "metadata": {},
   "outputs": [
    {
     "data": {
      "text/plain": [
       "White                 41762\n",
       "Black                  4685\n",
       "Asian-Pac-Islander     1519\n",
       "Amer-Indian-Eskimo      470\n",
       "Other                   406\n",
       "Name: race, dtype: int64"
      ]
     },
     "execution_count": 141,
     "metadata": {},
     "output_type": "execute_result"
    }
   ],
   "source": [
    "df_UCI_adult.race.value_counts()"
   ]
  },
  {
   "cell_type": "code",
   "execution_count": 142,
   "id": "18929fe2",
   "metadata": {},
   "outputs": [
    {
     "data": {
      "text/plain": [
       "0    41762\n",
       "4     4685\n",
       "1     1519\n",
       "2      470\n",
       "3      406\n",
       "Name: race, dtype: int64"
      ]
     },
     "execution_count": 142,
     "metadata": {},
     "output_type": "execute_result"
    }
   ],
   "source": [
    "df_synth_adult.race.value_counts()"
   ]
  },
  {
   "cell_type": "code",
   "execution_count": 148,
   "id": "3f3cbccf",
   "metadata": {},
   "outputs": [
    {
     "data": {
      "text/plain": [
       "race\n",
       "0    0.253987\n",
       "1    0.269256\n",
       "2    0.117021\n",
       "3    0.123153\n",
       "4    0.120811\n",
       "Name: income>50K, dtype: float64"
      ]
     },
     "execution_count": 148,
     "metadata": {},
     "output_type": "execute_result"
    }
   ],
   "source": [
    "df_synth_adult.groupby(\"race\")[\"income>50K\"].mean()"
   ]
  },
  {
   "cell_type": "markdown",
   "id": "6f9d2d8b",
   "metadata": {},
   "source": [
    "For now, I'll split this into privileged (white) and non-privileged (everyone else)."
   ]
  },
  {
   "cell_type": "markdown",
   "id": "aac1b1b3",
   "metadata": {},
   "source": [
    "## Sex"
   ]
  },
  {
   "cell_type": "code",
   "execution_count": 145,
   "id": "f24d5296",
   "metadata": {},
   "outputs": [
    {
     "data": {
      "text/plain": [
       "Male      32650\n",
       "Female    16192\n",
       "Name: sex, dtype: int64"
      ]
     },
     "execution_count": 145,
     "metadata": {},
     "output_type": "execute_result"
    }
   ],
   "source": [
    "df_UCI_adult.sex.value_counts()"
   ]
  },
  {
   "cell_type": "code",
   "execution_count": 146,
   "id": "58c42ff3",
   "metadata": {},
   "outputs": [
    {
     "data": {
      "text/plain": [
       "1    32650\n",
       "0    16192\n",
       "Name: sex, dtype: int64"
      ]
     },
     "execution_count": 146,
     "metadata": {},
     "output_type": "execute_result"
    }
   ],
   "source": [
    "df_synth_adult.sex.value_counts()"
   ]
  },
  {
   "cell_type": "code",
   "execution_count": 147,
   "id": "1f3f74f4",
   "metadata": {},
   "outputs": [
    {
     "data": {
      "text/plain": [
       "sex\n",
       "0    0.109251\n",
       "1    0.303767\n",
       "Name: income>50K, dtype: float64"
      ]
     },
     "execution_count": 147,
     "metadata": {},
     "output_type": "execute_result"
    }
   ],
   "source": [
    "df_synth_adult.groupby(\"sex\")[\"income>50K\"].mean()"
   ]
  },
  {
   "cell_type": "markdown",
   "id": "805b652e",
   "metadata": {},
   "source": [
    "I'll leave this one as is for now."
   ]
  },
  {
   "cell_type": "markdown",
   "id": "81d7a0ff",
   "metadata": {},
   "source": [
    "## Capital-gain"
   ]
  },
  {
   "cell_type": "code",
   "execution_count": 156,
   "id": "681c30e0",
   "metadata": {
    "scrolled": true
   },
   "outputs": [
    {
     "data": {
      "text/plain": [
       "0     44888\n",
       "7       803\n",
       "15      531\n",
       "3       504\n",
       "2       473\n",
       "4       379\n",
       "5       296\n",
       "99      244\n",
       "1       147\n",
       "6       100\n",
       "10       91\n",
       "14       83\n",
       "8        82\n",
       "27       58\n",
       "20       49\n",
       "13       42\n",
       "9        36\n",
       "25       20\n",
       "34        6\n",
       "11        4\n",
       "41        3\n",
       "18        2\n",
       "22        1\n",
       "Name: capital-gain, dtype: int64"
      ]
     },
     "execution_count": 156,
     "metadata": {},
     "output_type": "execute_result"
    }
   ],
   "source": [
    "(df_UCI_adult[\"capital-gain\"]//1000).value_counts()"
   ]
  },
  {
   "cell_type": "code",
   "execution_count": 150,
   "id": "1db0e70b",
   "metadata": {
    "scrolled": true
   },
   "outputs": [
    {
     "data": {
      "text/plain": [
       "0     44888\n",
       "7       803\n",
       "15      531\n",
       "3       504\n",
       "2       473\n",
       "4       379\n",
       "5       296\n",
       "99      244\n",
       "1       147\n",
       "6       100\n",
       "10       91\n",
       "14       83\n",
       "8        82\n",
       "27       58\n",
       "20       49\n",
       "13       42\n",
       "9        36\n",
       "25       20\n",
       "34        6\n",
       "11        4\n",
       "41        3\n",
       "18        2\n",
       "22        1\n",
       "Name: capital-gain, dtype: int64"
      ]
     },
     "execution_count": 150,
     "metadata": {},
     "output_type": "execute_result"
    }
   ],
   "source": [
    "df_synth_adult[\"capital-gain\"].value_counts()"
   ]
  },
  {
   "cell_type": "code",
   "execution_count": 184,
   "id": "d1ab9410",
   "metadata": {},
   "outputs": [
    {
     "data": {
      "text/plain": [
       "True"
      ]
     },
     "execution_count": 184,
     "metadata": {},
     "output_type": "execute_result"
    }
   ],
   "source": [
    "((df_UCI_adult[\"capital-gain\"]//1000)==df_synth_adult[\"capital-gain\"]).all()"
   ]
  },
  {
   "cell_type": "markdown",
   "id": "dccc37b0",
   "metadata": {},
   "source": [
    "This is the previously used mapping so I will stick with it."
   ]
  },
  {
   "cell_type": "markdown",
   "id": "04403336",
   "metadata": {},
   "source": [
    "## Capital-loss"
   ]
  },
  {
   "cell_type": "code",
   "execution_count": 177,
   "id": "83435bb9",
   "metadata": {
    "scrolled": true
   },
   "outputs": [
    {
     "data": {
      "text/plain": [
       "0     46560\n",
       "39      317\n",
       "38      308\n",
       "37      293\n",
       "34      180\n",
       "31      156\n",
       "33      105\n",
       "32      100\n",
       "48       92\n",
       "40       80\n",
       "36       79\n",
       "29       71\n",
       "41       46\n",
       "44       45\n",
       "45       44\n",
       "28       43\n",
       "47       38\n",
       "43       32\n",
       "30       30\n",
       "46       27\n",
       "35       22\n",
       "12       17\n",
       "51       17\n",
       "56       14\n",
       "42       12\n",
       "49       12\n",
       "26       11\n",
       "21       11\n",
       "27       10\n",
       "52        7\n",
       "25        6\n",
       "17        6\n",
       "6         5\n",
       "60        5\n",
       "4         5\n",
       "50        5\n",
       "75        4\n",
       "22        4\n",
       "13        4\n",
       "87        3\n",
       "8         3\n",
       "19        2\n",
       "16        2\n",
       "73        2\n",
       "78        2\n",
       "55        2\n",
       "63        2\n",
       "3         1\n",
       "Name: capital-loss, dtype: int64"
      ]
     },
     "execution_count": 177,
     "metadata": {},
     "output_type": "execute_result"
    }
   ],
   "source": [
    "(df_UCI_adult[\"capital-loss\"]//50).value_counts()"
   ]
  },
  {
   "cell_type": "code",
   "execution_count": 178,
   "id": "0e188f9b",
   "metadata": {
    "scrolled": true
   },
   "outputs": [
    {
     "data": {
      "text/plain": [
       "0     46560\n",
       "39      317\n",
       "38      308\n",
       "37      293\n",
       "34      180\n",
       "31      156\n",
       "33      105\n",
       "32      100\n",
       "48       92\n",
       "40       80\n",
       "36       79\n",
       "29       71\n",
       "41       46\n",
       "44       45\n",
       "45       44\n",
       "28       43\n",
       "47       38\n",
       "43       32\n",
       "30       30\n",
       "46       27\n",
       "35       22\n",
       "12       17\n",
       "51       17\n",
       "56       14\n",
       "42       12\n",
       "49       12\n",
       "26       11\n",
       "21       11\n",
       "27       10\n",
       "52        7\n",
       "25        6\n",
       "17        6\n",
       "6         5\n",
       "60        5\n",
       "4         5\n",
       "50        5\n",
       "75        4\n",
       "22        4\n",
       "13        4\n",
       "87        3\n",
       "8         3\n",
       "19        2\n",
       "16        2\n",
       "73        2\n",
       "77        2\n",
       "55        2\n",
       "63        2\n",
       "3         1\n",
       "Name: capital-loss, dtype: int64"
      ]
     },
     "execution_count": 178,
     "metadata": {},
     "output_type": "execute_result"
    }
   ],
   "source": [
    "df_synth_adult[\"capital-loss\"].value_counts()"
   ]
  },
  {
   "cell_type": "code",
   "execution_count": 182,
   "id": "1cc5c0bb",
   "metadata": {},
   "outputs": [
    {
     "data": {
      "text/plain": [
       "2"
      ]
     },
     "execution_count": 182,
     "metadata": {},
     "output_type": "execute_result"
    }
   ],
   "source": [
    "((df_UCI_adult[\"capital-loss\"]//50)!=df_synth_adult[\"capital-loss\"]).sum()"
   ]
  },
  {
   "cell_type": "markdown",
   "id": "e1e20069",
   "metadata": {},
   "source": [
    "This is basically right, so I'll just go with it. I may split into fewer groups further down the line."
   ]
  },
  {
   "cell_type": "markdown",
   "id": "cd1694ef",
   "metadata": {},
   "source": [
    "## Hours-per-week"
   ]
  },
  {
   "cell_type": "code",
   "execution_count": 189,
   "id": "08931a39",
   "metadata": {},
   "outputs": [
    {
     "data": {
      "text/plain": [
       "40    22803\n",
       "50     4246\n",
       "45     2717\n",
       "60     2177\n",
       "35     1937\n",
       "      ...  \n",
       "79        1\n",
       "94        1\n",
       "82        1\n",
       "87        1\n",
       "69        1\n",
       "Name: hours-per-week, Length: 96, dtype: int64"
      ]
     },
     "execution_count": 189,
     "metadata": {},
     "output_type": "execute_result"
    }
   ],
   "source": [
    "df_UCI_adult[\"hours-per-week\"].value_counts()"
   ]
  },
  {
   "cell_type": "code",
   "execution_count": 190,
   "id": "d2dfd57a",
   "metadata": {},
   "outputs": [
    {
     "data": {
      "text/plain": [
       "39    22803\n",
       "49     4246\n",
       "44     2717\n",
       "59     2177\n",
       "34     1937\n",
       "      ...  \n",
       "78        1\n",
       "93        1\n",
       "81        1\n",
       "86        1\n",
       "68        1\n",
       "Name: hours-per-week, Length: 96, dtype: int64"
      ]
     },
     "execution_count": 190,
     "metadata": {},
     "output_type": "execute_result"
    }
   ],
   "source": [
    "df_synth_adult[\"hours-per-week\"].value_counts()"
   ]
  },
  {
   "cell_type": "code",
   "execution_count": 191,
   "id": "72f838b8",
   "metadata": {},
   "outputs": [
    {
     "data": {
      "text/plain": [
       "True"
      ]
     },
     "execution_count": 191,
     "metadata": {},
     "output_type": "execute_result"
    }
   ],
   "source": [
    "((df_UCI_adult[\"hours-per-week\"]-1)==df_synth_adult[\"hours-per-week\"]).all()"
   ]
  },
  {
   "cell_type": "code",
   "execution_count": 194,
   "id": "9f6b8c99",
   "metadata": {},
   "outputs": [
    {
     "data": {
      "text/plain": [
       "<Axes: >"
      ]
     },
     "execution_count": 194,
     "metadata": {},
     "output_type": "execute_result"
    },
    {
     "data": {
      "image/png": "[encoded data removed]",
      "text/plain": [
       "<Figure size 640x480 with 1 Axes>"
      ]
     },
     "metadata": {},
     "output_type": "display_data"
    }
   ],
   "source": [
    "df_UCI_adult[\"hours-per-week\"].hist()"
   ]
  },
  {
   "cell_type": "markdown",
   "id": "5ffd64b5",
   "metadata": {},
   "source": [
    "I'll just use the original numbering without subtracting 1. I may further reduce this later though."
   ]
  },
  {
   "cell_type": "markdown",
   "id": "4a96c542",
   "metadata": {},
   "source": [
    "## Native-country"
   ]
  },
  {
   "cell_type": "code",
   "execution_count": 197,
   "id": "27284e83",
   "metadata": {
    "scrolled": true
   },
   "outputs": [
    {
     "data": {
      "text/plain": [
       "United-States                 43832\n",
       "Mexico                          951\n",
       "?                               583\n",
       "Philippines                     295\n",
       "NaN                             274\n",
       "Germany                         206\n",
       "Puerto-Rico                     184\n",
       "Canada                          182\n",
       "El-Salvador                     155\n",
       "India                           151\n",
       "Cuba                            138\n",
       "England                         127\n",
       "China                           122\n",
       "South                           115\n",
       "Jamaica                         106\n",
       "Italy                           105\n",
       "Dominican-Republic              103\n",
       "Japan                            92\n",
       "Guatemala                        88\n",
       "Poland                           87\n",
       "Vietnam                          86\n",
       "Columbia                         85\n",
       "Haiti                            75\n",
       "Portugal                         67\n",
       "Taiwan                           65\n",
       "Iran                             59\n",
       "Greece                           49\n",
       "Nicaragua                        49\n",
       "Peru                             46\n",
       "Ecuador                          45\n",
       "France                           38\n",
       "Ireland                          37\n",
       "Hong                             30\n",
       "Thailand                         30\n",
       "Cambodia                         28\n",
       "Trinadad&Tobago                  27\n",
       "Outlying-US(Guam-USVI-etc)       23\n",
       "Laos                             23\n",
       "Yugoslavia                       23\n",
       "Scotland                         21\n",
       "Honduras                         20\n",
       "Hungary                          19\n",
       "Holand-Netherlands                1\n",
       "Name: native-country, dtype: int64"
      ]
     },
     "execution_count": 197,
     "metadata": {},
     "output_type": "execute_result"
    }
   ],
   "source": [
    "df_UCI_adult[\"native-country\"].value_counts(dropna=False)"
   ]
  },
  {
   "cell_type": "code",
   "execution_count": 196,
   "id": "3dd75e49",
   "metadata": {
    "scrolled": true
   },
   "outputs": [
    {
     "data": {
      "text/plain": [
       "0     43832\n",
       "20      951\n",
       "41      857\n",
       "15      295\n",
       "5       206\n",
       "3       184\n",
       "4       182\n",
       "36      155\n",
       "7       151\n",
       "12      138\n",
       "2       127\n",
       "11      122\n",
       "10      115\n",
       "18      106\n",
       "16      105\n",
       "24      103\n",
       "8        92\n",
       "31       88\n",
       "17       87\n",
       "19       86\n",
       "29       85\n",
       "28       75\n",
       "21       67\n",
       "27       65\n",
       "13       59\n",
       "9        49\n",
       "32       49\n",
       "38       46\n",
       "26       45\n",
       "23       38\n",
       "22       37\n",
       "39       30\n",
       "34       30\n",
       "1        28\n",
       "37       27\n",
       "25       23\n",
       "35       23\n",
       "6        23\n",
       "33       21\n",
       "14       20\n",
       "30       19\n",
       "40        1\n",
       "Name: native-country, dtype: int64"
      ]
     },
     "execution_count": 196,
     "metadata": {},
     "output_type": "execute_result"
    }
   ],
   "source": [
    "df_synth_adult[\"native-country\"].value_counts()"
   ]
  },
  {
   "cell_type": "markdown",
   "id": "6b668f65",
   "metadata": {},
   "source": [
    "I'll leave this one as is for now except changing NaNs to ? but I may try to reduce it later if it ends up being useful for the model."
   ]
  },
  {
   "cell_type": "markdown",
   "id": "a3781e8e",
   "metadata": {},
   "source": [
    "## Income"
   ]
  },
  {
   "cell_type": "code",
   "execution_count": 202,
   "id": "4f015a1e",
   "metadata": {},
   "outputs": [
    {
     "data": {
      "text/plain": [
       "<=50K     24720\n",
       "<=50K.    12435\n",
       ">50K       7841\n",
       ">50K.      3846\n",
       "Name: income, dtype: int64"
      ]
     },
     "execution_count": 202,
     "metadata": {},
     "output_type": "execute_result"
    }
   ],
   "source": [
    "df_UCI_adult.income.value_counts(dropna=False)"
   ]
  },
  {
   "cell_type": "code",
   "execution_count": 203,
   "id": "3a5d5f99",
   "metadata": {},
   "outputs": [
    {
     "data": {
      "text/plain": [
       "0    37155\n",
       "1    11687\n",
       "Name: income>50K, dtype: int64"
      ]
     },
     "execution_count": 203,
     "metadata": {},
     "output_type": "execute_result"
    }
   ],
   "source": [
    "df_synth_adult[\"income>50K\"].value_counts()"
   ]
  },
  {
   "cell_type": "code",
   "execution_count": null,
   "id": "3e1b8e63",
   "metadata": {},
   "outputs": [],
   "source": []
  }
 ],
 "metadata": {
  "kernelspec": {
   "display_name": "Python 3 (ipykernel)",
   "language": "python",
   "name": "python3"
  },
  "language_info": {
   "codemirror_mode": {
    "name": "ipython",
    "version": 3
   },
   "file_extension": ".py",
   "mimetype": "text/x-python",
   "name": "python",
   "nbconvert_exporter": "python",
   "pygments_lexer": "ipython3",
   "version": "3.10.9"
  }
 },
 "nbformat": 4,
 "nbformat_minor": 5
}
